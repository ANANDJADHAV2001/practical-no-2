{
  "nbformat": 4,
  "nbformat_minor": 0,
  "metadata": {
    "colab": {
      "name": "Data tyoes .ipynb",
      "provenance": []
    },
    "kernelspec": {
      "name": "python3",
      "display_name": "Python 3"
    },
    "language_info": {
      "name": "python"
    }
  },
  "cells": [
    {
      "cell_type": "markdown",
      "source": [
        "Write a program to demonstrate different number data types in python."
      ],
      "metadata": {
        "id": "XVzlB9IyQSMc"
      }
    },
    {
      "cell_type": "code",
      "source": [
        "x = 20     #int\n",
        "print(x)\n",
        "print(type(x))\n",
        "x = 20.5 #float\n",
        "print(x)\n",
        "print(type(x))\n",
        "x = 1j        #complex\n",
        "print(x)\n",
        "print(type(x))"
      ],
      "metadata": {
        "colab": {
          "base_uri": "https://localhost:8080/"
        },
        "id": "kOEzDEkBOx8v",
        "outputId": "0f0c9c60-b278-4a53-d9d0-5b432ad9cca0"
      },
      "execution_count": 1,
      "outputs": [
        {
          "output_type": "stream",
          "name": "stdout",
          "text": [
            "20\n",
            "<class 'int'>\n",
            "20.5\n",
            "<class 'float'>\n",
            "1j\n",
            "<class 'complex'>\n"
          ]
        }
      ]
    },
    {
      "cell_type": "code",
      "source": [
        "#String\n",
        "x = \"rcpit.ac.in\"   \n",
        "print(x)\n",
        "print(type(x))"
      ],
      "metadata": {
        "colab": {
          "base_uri": "https://localhost:8080/"
        },
        "id": "exrEiwiXQNRD",
        "outputId": "92969f55-3c78-4c62-c27f-d85fe6efb0f5"
      },
      "execution_count": 4,
      "outputs": [
        {
          "output_type": "stream",
          "name": "stdout",
          "text": [
            "rcpit.ac.in\n",
            "<class 'str'>\n"
          ]
        }
      ]
    },
    {
      "cell_type": "code",
      "source": [
        "x = [\"Shirpur\", \"RCPIT\", \"Electrical\"]       #list\n",
        "print(x)\n",
        "print(type(x))"
      ],
      "metadata": {
        "colab": {
          "base_uri": "https://localhost:8080/"
        },
        "id": "UNvUnHc3QmEK",
        "outputId": "853c9a3a-fe69-4d77-dd64-53b6d6cc16e4"
      },
      "execution_count": 5,
      "outputs": [
        {
          "output_type": "stream",
          "name": "stdout",
          "text": [
            "['Shirpur', 'RCPIT', 'Electrical']\n",
            "<class 'list'>\n"
          ]
        }
      ]
    },
    {
      "cell_type": "code",
      "source": [
        "x = (\"Python\", \"from\", \"rcpit.ac.in\")       #tuple\n",
        "print(x)\n",
        "print(type(x))"
      ],
      "metadata": {
        "colab": {
          "base_uri": "https://localhost:8080/"
        },
        "id": "HgZBg0mLQq_b",
        "outputId": "0b9b4f0e-0e6d-4856-bad8-0cb8cfdce70a"
      },
      "execution_count": 6,
      "outputs": [
        {
          "output_type": "stream",
          "name": "stdout",
          "text": [
            "('Python', 'from', 'rcpit.ac.in')\n",
            "<class 'tuple'>\n"
          ]
        }
      ]
    },
    {
      "cell_type": "code",
      "source": [
        "x = {\"name\" : \"anu\", \"age\" : 36}  #dict\n",
        "print(x)\n",
        "print(type(x))"
      ],
      "metadata": {
        "colab": {
          "base_uri": "https://localhost:8080/"
        },
        "id": "43p8WOTkQ0W9",
        "outputId": "59858e0f-1b82-452d-fc05-35513874aabc"
      },
      "execution_count": 7,
      "outputs": [
        {
          "output_type": "stream",
          "name": "stdout",
          "text": [
            "{'name': 'anu', 'age': 36}\n",
            "<class 'dict'>\n"
          ]
        }
      ]
    },
    {
      "cell_type": "code",
      "source": [
        "x = {\"name\" : \"anu\", \"age\" : 36}  #dict\n",
        "print(x)\n",
        "print(type(x))"
      ],
      "metadata": {
        "colab": {
          "base_uri": "https://localhost:8080/"
        },
        "id": "WdTI6cQgRFqs",
        "outputId": "dfb5faea-8c24-4bed-910d-8a60210c9213"
      },
      "execution_count": 8,
      "outputs": [
        {
          "output_type": "stream",
          "name": "stdout",
          "text": [
            "{'name': 'anu', 'age': 36}\n",
            "<class 'dict'>\n"
          ]
        }
      ]
    },
    {
      "cell_type": "code",
      "source": [
        " {\"dl\", \"python\", \"ml\"}   #set\n",
        "print(x)\n",
        "print(type(x))\n",
        "x = frozenset({\"opencv\", \"pandas\", \"numpy\"}) #frozenset\n",
        "print(x)\n",
        "print(type(x))"
      ],
      "metadata": {
        "colab": {
          "base_uri": "https://localhost:8080/"
        },
        "id": "sEOJadZkRXVU",
        "outputId": "8ac83f09-a8f9-4c9b-9935-2c7aeee784da"
      },
      "execution_count": 9,
      "outputs": [
        {
          "output_type": "stream",
          "name": "stdout",
          "text": [
            "{'name': 'anu', 'age': 36}\n",
            "<class 'dict'>\n",
            "frozenset({'opencv', 'pandas', 'numpy'})\n",
            "<class 'frozenset'>\n"
          ]
        }
      ]
    }
  ]
}